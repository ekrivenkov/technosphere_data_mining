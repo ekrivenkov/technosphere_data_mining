{
 "cells": [
  {
   "cell_type": "markdown",
   "metadata": {},
   "source": [
    "Для первичной обработки данных будем пользоваться библиотекой pandas"
   ]
  },
  {
   "cell_type": "code",
   "execution_count": 49,
   "metadata": {
    "collapsed": false
   },
   "outputs": [
    {
     "data": {
      "text/html": [
       "<div>\n",
       "<table border=\"1\" class=\"dataframe\">\n",
       "  <thead>\n",
       "    <tr style=\"text-align: right;\">\n",
       "      <th></th>\n",
       "      <th>timestamp</th>\n",
       "      <th>user_id</th>\n",
       "      <th>url or click</th>\n",
       "      <th>geo_id</th>\n",
       "      <th>category</th>\n",
       "      <th>price</th>\n",
       "    </tr>\n",
       "  </thead>\n",
       "  <tbody>\n",
       "    <tr>\n",
       "      <th>10007142</th>\n",
       "      <td>1361889766</td>\n",
       "      <td>fffffdbc5c7fbe34b444d9c213bba286</td>\n",
       "      <td>/offers.xml?modelid=8464553&amp;hid=4165204&amp;how=ap...</td>\n",
       "      <td>213</td>\n",
       "      <td>4165204</td>\n",
       "      <td>NaN</td>\n",
       "    </tr>\n",
       "    <tr>\n",
       "      <th>10007143</th>\n",
       "      <td>1361889775</td>\n",
       "      <td>fffffdbc5c7fbe34b444d9c213bba286</td>\n",
       "      <td>/offers.xml?modelid=8464553&amp;hid=4165204&amp;how=ap...</td>\n",
       "      <td>213</td>\n",
       "      <td>4165204</td>\n",
       "      <td>NaN</td>\n",
       "    </tr>\n",
       "    <tr>\n",
       "      <th>10007144</th>\n",
       "      <td>1361889674</td>\n",
       "      <td>fffffdbc5c7fbe34b444d9c213bba286</td>\n",
       "      <td>/offers.xml?modelid=981213&amp;hid=294661&amp;hyperid=...</td>\n",
       "      <td>213</td>\n",
       "      <td>294661</td>\n",
       "      <td>NaN</td>\n",
       "    </tr>\n",
       "    <tr>\n",
       "      <th>10007145</th>\n",
       "      <td>1361889363</td>\n",
       "      <td>fffffdbc5c7fbe34b444d9c213bba286</td>\n",
       "      <td>/offers.xml?modelid=981770&amp;hid=91033&amp;how=aprice</td>\n",
       "      <td>213</td>\n",
       "      <td>91033</td>\n",
       "      <td>NaN</td>\n",
       "    </tr>\n",
       "    <tr>\n",
       "      <th>10007146</th>\n",
       "      <td>1361889367</td>\n",
       "      <td>fffffdbc5c7fbe34b444d9c213bba286</td>\n",
       "      <td>/offers.xml?modelid=981770&amp;hid=91033&amp;how=aprice</td>\n",
       "      <td>213</td>\n",
       "      <td>91033</td>\n",
       "      <td>NaN</td>\n",
       "    </tr>\n",
       "  </tbody>\n",
       "</table>\n",
       "</div>"
      ],
      "text/plain": [
       "           timestamp                           user_id  \\\n",
       "10007142  1361889766  fffffdbc5c7fbe34b444d9c213bba286   \n",
       "10007143  1361889775  fffffdbc5c7fbe34b444d9c213bba286   \n",
       "10007144  1361889674  fffffdbc5c7fbe34b444d9c213bba286   \n",
       "10007145  1361889363  fffffdbc5c7fbe34b444d9c213bba286   \n",
       "10007146  1361889367  fffffdbc5c7fbe34b444d9c213bba286   \n",
       "\n",
       "                                               url or click geo_id category  \\\n",
       "10007142  /offers.xml?modelid=8464553&hid=4165204&how=ap...    213  4165204   \n",
       "10007143  /offers.xml?modelid=8464553&hid=4165204&how=ap...    213  4165204   \n",
       "10007144  /offers.xml?modelid=981213&hid=294661&hyperid=...    213   294661   \n",
       "10007145    /offers.xml?modelid=981770&hid=91033&how=aprice    213    91033   \n",
       "10007146    /offers.xml?modelid=981770&hid=91033&how=aprice    213    91033   \n",
       "\n",
       "          price  \n",
       "10007142    NaN  \n",
       "10007143    NaN  \n",
       "10007144    NaN  \n",
       "10007145    NaN  \n",
       "10007146    NaN  "
      ]
     },
     "execution_count": 49,
     "metadata": {},
     "output_type": "execute_result"
    }
   ],
   "source": [
    "import pandas as pd\n",
    "import csv\n",
    "data = pd.read_csv(\"rfm.tsv\", quoting=csv.QUOTE_NONE, sep=\"\\t\",\n",
    "                   names=[\"timestamp\", \"user_id\", \"url or click\", \"geo_id\", \"category\", \"price\"])\n",
    "data.tail()"
   ]
  },
  {
   "cell_type": "markdown",
   "metadata": {},
   "source": [
    "Сколько всего пользователей в базе?"
   ]
  },
  {
   "cell_type": "code",
   "execution_count": 50,
   "metadata": {
    "collapsed": false
   },
   "outputs": [
    {
     "data": {
      "text/plain": [
       "299208"
      ]
     },
     "execution_count": 50,
     "metadata": {},
     "output_type": "execute_result"
    }
   ],
   "source": [
    "n_users = data.user_id.nunique()\n",
    "n_users"
   ]
  },
  {
   "cell_type": "markdown",
   "metadata": {},
   "source": [
    "Сколько всего кликов в базе?"
   ]
  },
  {
   "cell_type": "code",
   "execution_count": 51,
   "metadata": {
    "collapsed": false
   },
   "outputs": [
    {
     "data": {
      "text/plain": [
       "10007147"
      ]
     },
     "execution_count": 51,
     "metadata": {},
     "output_type": "execute_result"
    }
   ],
   "source": [
    "n_clicks = len(data)\n",
    "n_clicks"
   ]
  },
  {
   "cell_type": "markdown",
   "metadata": {},
   "source": [
    "Заменим NaN в колонке price на 0"
   ]
  },
  {
   "cell_type": "code",
   "execution_count": 52,
   "metadata": {
    "collapsed": false,
    "scrolled": true
   },
   "outputs": [
    {
     "data": {
      "text/html": [
       "<div>\n",
       "<table border=\"1\" class=\"dataframe\">\n",
       "  <thead>\n",
       "    <tr style=\"text-align: right;\">\n",
       "      <th></th>\n",
       "      <th>timestamp</th>\n",
       "      <th>user_id</th>\n",
       "      <th>url or click</th>\n",
       "      <th>geo_id</th>\n",
       "      <th>category</th>\n",
       "      <th>price</th>\n",
       "    </tr>\n",
       "  </thead>\n",
       "  <tbody>\n",
       "    <tr>\n",
       "      <th>10007142</th>\n",
       "      <td>1361889766</td>\n",
       "      <td>fffffdbc5c7fbe34b444d9c213bba286</td>\n",
       "      <td>/offers.xml?modelid=8464553&amp;hid=4165204&amp;how=ap...</td>\n",
       "      <td>213</td>\n",
       "      <td>4165204</td>\n",
       "      <td>0.0</td>\n",
       "    </tr>\n",
       "    <tr>\n",
       "      <th>10007143</th>\n",
       "      <td>1361889775</td>\n",
       "      <td>fffffdbc5c7fbe34b444d9c213bba286</td>\n",
       "      <td>/offers.xml?modelid=8464553&amp;hid=4165204&amp;how=ap...</td>\n",
       "      <td>213</td>\n",
       "      <td>4165204</td>\n",
       "      <td>0.0</td>\n",
       "    </tr>\n",
       "    <tr>\n",
       "      <th>10007144</th>\n",
       "      <td>1361889674</td>\n",
       "      <td>fffffdbc5c7fbe34b444d9c213bba286</td>\n",
       "      <td>/offers.xml?modelid=981213&amp;hid=294661&amp;hyperid=...</td>\n",
       "      <td>213</td>\n",
       "      <td>294661</td>\n",
       "      <td>0.0</td>\n",
       "    </tr>\n",
       "    <tr>\n",
       "      <th>10007145</th>\n",
       "      <td>1361889363</td>\n",
       "      <td>fffffdbc5c7fbe34b444d9c213bba286</td>\n",
       "      <td>/offers.xml?modelid=981770&amp;hid=91033&amp;how=aprice</td>\n",
       "      <td>213</td>\n",
       "      <td>91033</td>\n",
       "      <td>0.0</td>\n",
       "    </tr>\n",
       "    <tr>\n",
       "      <th>10007146</th>\n",
       "      <td>1361889367</td>\n",
       "      <td>fffffdbc5c7fbe34b444d9c213bba286</td>\n",
       "      <td>/offers.xml?modelid=981770&amp;hid=91033&amp;how=aprice</td>\n",
       "      <td>213</td>\n",
       "      <td>91033</td>\n",
       "      <td>0.0</td>\n",
       "    </tr>\n",
       "  </tbody>\n",
       "</table>\n",
       "</div>"
      ],
      "text/plain": [
       "           timestamp                           user_id  \\\n",
       "10007142  1361889766  fffffdbc5c7fbe34b444d9c213bba286   \n",
       "10007143  1361889775  fffffdbc5c7fbe34b444d9c213bba286   \n",
       "10007144  1361889674  fffffdbc5c7fbe34b444d9c213bba286   \n",
       "10007145  1361889363  fffffdbc5c7fbe34b444d9c213bba286   \n",
       "10007146  1361889367  fffffdbc5c7fbe34b444d9c213bba286   \n",
       "\n",
       "                                               url or click geo_id category  \\\n",
       "10007142  /offers.xml?modelid=8464553&hid=4165204&how=ap...    213  4165204   \n",
       "10007143  /offers.xml?modelid=8464553&hid=4165204&how=ap...    213  4165204   \n",
       "10007144  /offers.xml?modelid=981213&hid=294661&hyperid=...    213   294661   \n",
       "10007145    /offers.xml?modelid=981770&hid=91033&how=aprice    213    91033   \n",
       "10007146    /offers.xml?modelid=981770&hid=91033&how=aprice    213    91033   \n",
       "\n",
       "          price  \n",
       "10007142    0.0  \n",
       "10007143    0.0  \n",
       "10007144    0.0  \n",
       "10007145    0.0  \n",
       "10007146    0.0  "
      ]
     },
     "execution_count": 52,
     "metadata": {},
     "output_type": "execute_result"
    }
   ],
   "source": [
    "data[\"price\"] = data[\"price\"].fillna(0)\n",
    "data.tail()"
   ]
  },
  {
   "cell_type": "markdown",
   "metadata": {},
   "source": [
    "Сохраним исходную таблицу, чтобы поработать только с некоторыми столбцами"
   ]
  },
  {
   "cell_type": "code",
   "execution_count": 53,
   "metadata": {
    "collapsed": false
   },
   "outputs": [],
   "source": [
    "rfm = data"
   ]
  },
  {
   "cell_type": "code",
   "execution_count": 54,
   "metadata": {
    "collapsed": false
   },
   "outputs": [
    {
     "data": {
      "text/html": [
       "<div>\n",
       "<table border=\"1\" class=\"dataframe\">\n",
       "  <thead>\n",
       "    <tr style=\"text-align: right;\">\n",
       "      <th></th>\n",
       "      <th>timestamp</th>\n",
       "      <th>user_id</th>\n",
       "      <th>url or click</th>\n",
       "      <th>price</th>\n",
       "    </tr>\n",
       "  </thead>\n",
       "  <tbody>\n",
       "    <tr>\n",
       "      <th>10007142</th>\n",
       "      <td>1361889766</td>\n",
       "      <td>fffffdbc5c7fbe34b444d9c213bba286</td>\n",
       "      <td>/offers.xml?modelid=8464553&amp;hid=4165204&amp;how=ap...</td>\n",
       "      <td>0.0</td>\n",
       "    </tr>\n",
       "    <tr>\n",
       "      <th>10007143</th>\n",
       "      <td>1361889775</td>\n",
       "      <td>fffffdbc5c7fbe34b444d9c213bba286</td>\n",
       "      <td>/offers.xml?modelid=8464553&amp;hid=4165204&amp;how=ap...</td>\n",
       "      <td>0.0</td>\n",
       "    </tr>\n",
       "    <tr>\n",
       "      <th>10007144</th>\n",
       "      <td>1361889674</td>\n",
       "      <td>fffffdbc5c7fbe34b444d9c213bba286</td>\n",
       "      <td>/offers.xml?modelid=981213&amp;hid=294661&amp;hyperid=...</td>\n",
       "      <td>0.0</td>\n",
       "    </tr>\n",
       "    <tr>\n",
       "      <th>10007145</th>\n",
       "      <td>1361889363</td>\n",
       "      <td>fffffdbc5c7fbe34b444d9c213bba286</td>\n",
       "      <td>/offers.xml?modelid=981770&amp;hid=91033&amp;how=aprice</td>\n",
       "      <td>0.0</td>\n",
       "    </tr>\n",
       "    <tr>\n",
       "      <th>10007146</th>\n",
       "      <td>1361889367</td>\n",
       "      <td>fffffdbc5c7fbe34b444d9c213bba286</td>\n",
       "      <td>/offers.xml?modelid=981770&amp;hid=91033&amp;how=aprice</td>\n",
       "      <td>0.0</td>\n",
       "    </tr>\n",
       "  </tbody>\n",
       "</table>\n",
       "</div>"
      ],
      "text/plain": [
       "           timestamp                           user_id  \\\n",
       "10007142  1361889766  fffffdbc5c7fbe34b444d9c213bba286   \n",
       "10007143  1361889775  fffffdbc5c7fbe34b444d9c213bba286   \n",
       "10007144  1361889674  fffffdbc5c7fbe34b444d9c213bba286   \n",
       "10007145  1361889363  fffffdbc5c7fbe34b444d9c213bba286   \n",
       "10007146  1361889367  fffffdbc5c7fbe34b444d9c213bba286   \n",
       "\n",
       "                                               url or click  price  \n",
       "10007142  /offers.xml?modelid=8464553&hid=4165204&how=ap...    0.0  \n",
       "10007143  /offers.xml?modelid=8464553&hid=4165204&how=ap...    0.0  \n",
       "10007144  /offers.xml?modelid=981213&hid=294661&hyperid=...    0.0  \n",
       "10007145    /offers.xml?modelid=981770&hid=91033&how=aprice    0.0  \n",
       "10007146    /offers.xml?modelid=981770&hid=91033&how=aprice    0.0  "
      ]
     },
     "execution_count": 54,
     "metadata": {},
     "output_type": "execute_result"
    }
   ],
   "source": [
    "rfm.drop([\"geo_id\", \"category\"], axis=1, inplace=True)\n",
    "rfm.tail()"
   ]
  },
  {
   "cell_type": "code",
   "execution_count": 55,
   "metadata": {
    "collapsed": false
   },
   "outputs": [
    {
     "name": "stdout",
     "output_type": "stream",
     "text": [
      "2013-01-01 00:00:53\n",
      "2013-12-31 23:58:37\n"
     ]
    }
   ],
   "source": [
    "import datetime\n",
    "print datetime.datetime.fromtimestamp(rfm[\"timestamp\"].min())\n",
    "print datetime.datetime.fromtimestamp(rfm[\"timestamp\"].max())"
   ]
  },
  {
   "cell_type": "markdown",
   "metadata": {},
   "source": [
    "Самый поздний клик - почти перед Новым годом, поэтому будем считать frequency, начиная от 1 января 2014 года."
   ]
  },
  {
   "cell_type": "code",
   "execution_count": 56,
   "metadata": {
    "collapsed": false
   },
   "outputs": [
    {
     "data": {
      "text/html": [
       "<div>\n",
       "<table border=\"1\" class=\"dataframe\">\n",
       "  <thead>\n",
       "    <tr style=\"text-align: right;\">\n",
       "      <th></th>\n",
       "      <th>money</th>\n",
       "      <th>frequency</th>\n",
       "      <th>recency</th>\n",
       "    </tr>\n",
       "    <tr>\n",
       "      <th>user_id</th>\n",
       "      <th></th>\n",
       "      <th></th>\n",
       "      <th></th>\n",
       "    </tr>\n",
       "  </thead>\n",
       "  <tbody>\n",
       "    <tr>\n",
       "      <th>ffff32de00441b07411d25b7c3adc8cc</th>\n",
       "      <td>0.0</td>\n",
       "      <td>1</td>\n",
       "      <td>46</td>\n",
       "    </tr>\n",
       "    <tr>\n",
       "      <th>ffffb9390285f56b4691aed5e3879663</th>\n",
       "      <td>0.0</td>\n",
       "      <td>37</td>\n",
       "      <td>194</td>\n",
       "    </tr>\n",
       "    <tr>\n",
       "      <th>ffffd6bd3a3f1e7b3b92a790104a6ae4</th>\n",
       "      <td>263.0</td>\n",
       "      <td>132</td>\n",
       "      <td>267</td>\n",
       "    </tr>\n",
       "    <tr>\n",
       "      <th>ffffda42ccd5f1ed15a700b23fc6c8e5</th>\n",
       "      <td>16.0</td>\n",
       "      <td>2</td>\n",
       "      <td>328</td>\n",
       "    </tr>\n",
       "    <tr>\n",
       "      <th>fffffdbc5c7fbe34b444d9c213bba286</th>\n",
       "      <td>0.0</td>\n",
       "      <td>25</td>\n",
       "      <td>308</td>\n",
       "    </tr>\n",
       "  </tbody>\n",
       "</table>\n",
       "</div>"
      ],
      "text/plain": [
       "                                  money  frequency  recency\n",
       "user_id                                                    \n",
       "ffff32de00441b07411d25b7c3adc8cc    0.0          1       46\n",
       "ffffb9390285f56b4691aed5e3879663    0.0         37      194\n",
       "ffffd6bd3a3f1e7b3b92a790104a6ae4  263.0        132      267\n",
       "ffffda42ccd5f1ed15a700b23fc6c8e5   16.0          2      328\n",
       "fffffdbc5c7fbe34b444d9c213bba286    0.0         25      308"
      ]
     },
     "execution_count": 56,
     "metadata": {},
     "output_type": "execute_result"
    }
   ],
   "source": [
    "today = datetime.datetime(2014, 1, 1)\n",
    "\n",
    "rfm.rename(columns={\"timestamp\":\"recency\", \"url or click\":\"frequency\", \"price\":\"money\"}, inplace=True)\n",
    "rfm = rfm.groupby(\"user_id\").agg({\"recency\": lambda x: (today - datetime.datetime.fromtimestamp(x.max())).days, \n",
    "                                  \"frequency\": lambda x: len(x), \"money\": lambda x: x.sum()}) \n",
    "\n",
    "rfm.tail()"
   ]
  },
  {
   "cell_type": "markdown",
   "metadata": {},
   "source": [
    "Посчитаем, сколько пользователей совершили последнее действие в зависимости от месяца и построим график"
   ]
  },
  {
   "cell_type": "code",
   "execution_count": 57,
   "metadata": {
    "collapsed": false
   },
   "outputs": [],
   "source": [
    "from collections import Counter, defaultdict\n",
    "recency_counter = Counter(rfm[\"recency\"])\n",
    "\n",
    "by_months = dict.fromkeys(range(12), 0)\n",
    "\n",
    "for i in range(360):\n",
    "    by_months[i / 30] += recency_counter[i]\n",
    "    \n",
    "for i in range(360, 365):\n",
    "    by_months[11] += recency_counter[i]"
   ]
  },
  {
   "cell_type": "code",
   "execution_count": 58,
   "metadata": {
    "collapsed": false
   },
   "outputs": [
    {
     "name": "stdout",
     "output_type": "stream",
     "text": [
      "Populating the interactive namespace from numpy and matplotlib\n"
     ]
    },
    {
     "name": "stderr",
     "output_type": "stream",
     "text": [
      "WARNING: pylab import has clobbered these variables: ['division']\n",
      "`%matplotlib` prevents importing * from pylab and numpy\n"
     ]
    },
    {
     "data": {
      "image/png": "[encoded data removed]",
      "text/plain": [
       "<matplotlib.figure.Figure at 0x11b8ac590>"
      ]
     },
     "metadata": {},
     "output_type": "display_data"
    }
   ],
   "source": [
    "import pylab as pl\n",
    "%pylab inline\n",
    "\n",
    "pl.figure(figsize=(6,6))\n",
    "pl.bar(by_months.keys(), by_months.values(), width = 0.7, color = \"yellow\")\n",
    "#pl.xticks(by_months.keys())\n",
    "pl.ylabel(\"Recency\")\n",
    "pl.title(\"Recency by months\")\n",
    "pl.show()"
   ]
  },
  {
   "cell_type": "markdown",
   "metadata": {},
   "source": [
    "Посчитаем квантили, чтобы найти разбиение на классы"
   ]
  },
  {
   "cell_type": "code",
   "execution_count": 59,
   "metadata": {
    "collapsed": false
   },
   "outputs": [
    {
     "data": {
      "text/html": [
       "<div>\n",
       "<table border=\"1\" class=\"dataframe\">\n",
       "  <thead>\n",
       "    <tr style=\"text-align: right;\">\n",
       "      <th></th>\n",
       "      <th>money</th>\n",
       "      <th>frequency</th>\n",
       "      <th>recency</th>\n",
       "    </tr>\n",
       "  </thead>\n",
       "  <tbody>\n",
       "    <tr>\n",
       "      <th>0.2</th>\n",
       "      <td>0.0</td>\n",
       "      <td>1.0</td>\n",
       "      <td>33.0</td>\n",
       "    </tr>\n",
       "    <tr>\n",
       "      <th>0.4</th>\n",
       "      <td>0.0</td>\n",
       "      <td>3.0</td>\n",
       "      <td>95.0</td>\n",
       "    </tr>\n",
       "    <tr>\n",
       "      <th>0.6</th>\n",
       "      <td>0.0</td>\n",
       "      <td>7.0</td>\n",
       "      <td>185.0</td>\n",
       "    </tr>\n",
       "    <tr>\n",
       "      <th>0.8</th>\n",
       "      <td>0.0</td>\n",
       "      <td>18.0</td>\n",
       "      <td>276.0</td>\n",
       "    </tr>\n",
       "  </tbody>\n",
       "</table>\n",
       "</div>"
      ],
      "text/plain": [
       "     money  frequency  recency\n",
       "0.2    0.0        1.0     33.0\n",
       "0.4    0.0        3.0     95.0\n",
       "0.6    0.0        7.0    185.0\n",
       "0.8    0.0       18.0    276.0"
      ]
     },
     "execution_count": 59,
     "metadata": {},
     "output_type": "execute_result"
    }
   ],
   "source": [
    "quantiles = rfm.quantile(q=[0.2,0.4,0.6, 0.8])\n",
    "quantiles"
   ]
  },
  {
   "cell_type": "code",
   "execution_count": 60,
   "metadata": {
    "collapsed": false
   },
   "outputs": [
    {
     "data": {
      "text/plain": [
       "0.8153023983315955"
      ]
     },
     "execution_count": 60,
     "metadata": {},
     "output_type": "execute_result"
    }
   ],
   "source": [
    "len(rfm[rfm[\"money\"] == 0.0]) / float(n_users)"
   ]
  },
  {
   "cell_type": "markdown",
   "metadata": {
    "collapsed": false
   },
   "source": [
    "Сразу явно можно выделить основные группы по recency:\n",
    "* Менее месяца назад\n",
    "* От месяца до трех\n",
    "* От трех месяцев до полугода\n",
    "* От полугода до 9 месяцев\n",
    "* От 9 месяцев до года"
   ]
  },
  {
   "cell_type": "markdown",
   "metadata": {},
   "source": [
    "С frequency тоже нет проблем. Есть пользователи, сделавшие толко один клик, сделавшие 2 или 3 клика итд.  \n",
    "Однако с money не все так просто. 82% людей не переходят в магазины и не приносят денег. Их логично выделить в отдельную группу, а остальных разбить на 4 класса. "
   ]
  },
  {
   "cell_type": "code",
   "execution_count": 61,
   "metadata": {
    "collapsed": false
   },
   "outputs": [
    {
     "data": {
      "text/plain": [
       "0.25     20.0\n",
       "0.50     50.0\n",
       "0.75    154.5\n",
       "Name: money, dtype: float64"
      ]
     },
     "execution_count": 61,
     "metadata": {},
     "output_type": "execute_result"
    }
   ],
   "source": [
    "money_notnull = rfm[rfm[\"money\"] > 0]\n",
    "money_quantiles = money_notnull[\"money\"].quantile(q=[0.25,0.5,0.75])\n",
    "money_quantiles"
   ]
  },
  {
   "cell_type": "code",
   "execution_count": 62,
   "metadata": {
    "collapsed": false
   },
   "outputs": [
    {
     "data": {
      "text/html": [
       "<div>\n",
       "<table border=\"1\" class=\"dataframe\">\n",
       "  <thead>\n",
       "    <tr style=\"text-align: right;\">\n",
       "      <th></th>\n",
       "      <th>money</th>\n",
       "      <th>frequency</th>\n",
       "      <th>recency</th>\n",
       "    </tr>\n",
       "  </thead>\n",
       "  <tbody>\n",
       "    <tr>\n",
       "      <th>0.2</th>\n",
       "      <td>0.0</td>\n",
       "      <td>1.0</td>\n",
       "      <td>33.0</td>\n",
       "    </tr>\n",
       "    <tr>\n",
       "      <th>0.4</th>\n",
       "      <td>20.0</td>\n",
       "      <td>3.0</td>\n",
       "      <td>95.0</td>\n",
       "    </tr>\n",
       "    <tr>\n",
       "      <th>0.6</th>\n",
       "      <td>50.0</td>\n",
       "      <td>7.0</td>\n",
       "      <td>185.0</td>\n",
       "    </tr>\n",
       "    <tr>\n",
       "      <th>0.8</th>\n",
       "      <td>154.5</td>\n",
       "      <td>18.0</td>\n",
       "      <td>276.0</td>\n",
       "    </tr>\n",
       "  </tbody>\n",
       "</table>\n",
       "</div>"
      ],
      "text/plain": [
       "     money  frequency  recency\n",
       "0.2    0.0        1.0     33.0\n",
       "0.4   20.0        3.0     95.0\n",
       "0.6   50.0        7.0    185.0\n",
       "0.8  154.5       18.0    276.0"
      ]
     },
     "execution_count": 62,
     "metadata": {},
     "output_type": "execute_result"
    }
   ],
   "source": [
    "quantiles[\"money\"][0.4] = money_quantiles[0.25]\n",
    "quantiles[\"money\"][0.6] = money_quantiles[0.5]\n",
    "quantiles[\"money\"][0.8] = money_quantiles[0.75]\n",
    "quantiles"
   ]
  },
  {
   "cell_type": "markdown",
   "metadata": {},
   "source": [
    "Разделим пользователей на 5 категорий по RF-показателям"
   ]
  },
  {
   "cell_type": "code",
   "execution_count": 63,
   "metadata": {
    "collapsed": false
   },
   "outputs": [
    {
     "data": {
      "image/png": "[encoded data removed]",
      "text/plain": [
       "<matplotlib.figure.Figure at 0x12afa5f50>"
      ]
     },
     "metadata": {},
     "output_type": "display_data"
    }
   ],
   "source": [
    "x = []\n",
    "y = []\n",
    "c = []\n",
    "labels = []\n",
    "\n",
    "for i in range(25):\n",
    "    c1 = i / 5 + 1\n",
    "    c2 = i % 5 + 1\n",
    "    x.append(c1)\n",
    "    y.append(c2)\n",
    "    \n",
    "    if c1 >= 4 and c2 >= 4:\n",
    "        c.append(\"blue\")\n",
    "    elif c1 <= 2 and c2 <= 2:\n",
    "        c.append(\"red\")\n",
    "    elif c1 >= 3 and c2 <= 2:\n",
    "        c.append(\"green\")\n",
    "    elif c1 <= 2 and c2 >= 3:\n",
    "        c.append(\"orange\")\n",
    "    else:\n",
    "        c.append(\"yellow\")\n",
    "    \n",
    "pl.figure(figsize=(3,3))\n",
    "pl.scatter(1, 1, color = \"blue\", s = 100, label = \"Best\")\n",
    "pl.scatter(1, 1, color = \"red\", s = 100, label = \"Disposable\")\n",
    "pl.scatter(1, 1, color = \"green\", s = 100, label = \"Newbie\")\n",
    "pl.scatter(1, 1, color = \"orange\", s = 100, label = \"Lost\")\n",
    "pl.scatter(1, 1, color = \"yellow\", s = 100, label = \"Active\")\n",
    "pl.scatter(x, y, color = c, s = 200)\n",
    "pl.legend(loc = 2, bbox_to_anchor=(1.05, 1))\n",
    "\n",
    "pl.ylabel(\"F\")\n",
    "pl.xlabel(\"R\")\n",
    "pl.title(\"RF graph\")\n",
    "\n",
    "pl.show()"
   ]
  },
  {
   "cell_type": "code",
   "execution_count": 64,
   "metadata": {
    "collapsed": true
   },
   "outputs": [],
   "source": [
    "def RSegmentation(x, q):\n",
    "    if x <= q[\"recency\"][0.2]:\n",
    "        return 5\n",
    "    elif x <= q[\"recency\"][0.4]:\n",
    "        return 4\n",
    "    elif x <= q[\"recency\"][0.6]:\n",
    "        return 3\n",
    "    elif x <= q[\"recency\"][0.8]:\n",
    "        return 2\n",
    "    else:\n",
    "        return 1\n",
    "    \n",
    "def FSegmentation(x, q):\n",
    "    if x <= q[\"frequency\"][0.2]:\n",
    "        return 1\n",
    "    elif x <= q[\"frequency\"][0.4]:\n",
    "        return 2\n",
    "    elif x <= q[\"frequency\"][0.6]:\n",
    "        return 3\n",
    "    elif x <= q[\"frequency\"][0.8]:\n",
    "        return 4\n",
    "    else:\n",
    "        return 5\n",
    "    \n",
    "def MSegmentation(x, q):\n",
    "    if x <= q[\"money\"][0.2]:\n",
    "        return 1\n",
    "    elif x <= q[\"money\"][0.4]:\n",
    "        return 2\n",
    "    elif x <= q[\"money\"][0.6]:\n",
    "        return 3\n",
    "    elif x <= q[\"money\"][0.8]:\n",
    "        return 4\n",
    "    else:\n",
    "        return 5"
   ]
  },
  {
   "cell_type": "markdown",
   "metadata": {},
   "source": [
    "Распределим всех пользователей по классам"
   ]
  },
  {
   "cell_type": "code",
   "execution_count": 65,
   "metadata": {
    "collapsed": false
   },
   "outputs": [
    {
     "data": {
      "text/html": [
       "<div>\n",
       "<table border=\"1\" class=\"dataframe\">\n",
       "  <thead>\n",
       "    <tr style=\"text-align: right;\">\n",
       "      <th></th>\n",
       "      <th>money</th>\n",
       "      <th>frequency</th>\n",
       "      <th>recency</th>\n",
       "      <th>RClass</th>\n",
       "      <th>FClass</th>\n",
       "      <th>MClass</th>\n",
       "    </tr>\n",
       "    <tr>\n",
       "      <th>user_id</th>\n",
       "      <th></th>\n",
       "      <th></th>\n",
       "      <th></th>\n",
       "      <th></th>\n",
       "      <th></th>\n",
       "      <th></th>\n",
       "    </tr>\n",
       "  </thead>\n",
       "  <tbody>\n",
       "    <tr>\n",
       "      <th>00002ad98ae4290672431d702c211b4a</th>\n",
       "      <td>0.0</td>\n",
       "      <td>1</td>\n",
       "      <td>98</td>\n",
       "      <td>3</td>\n",
       "      <td>1</td>\n",
       "      <td>1</td>\n",
       "    </tr>\n",
       "    <tr>\n",
       "      <th>00003cb9076039f584a12c2036fd3602</th>\n",
       "      <td>0.0</td>\n",
       "      <td>19</td>\n",
       "      <td>26</td>\n",
       "      <td>5</td>\n",
       "      <td>5</td>\n",
       "      <td>1</td>\n",
       "    </tr>\n",
       "    <tr>\n",
       "      <th>000065938a8c02438551bef260a5ded0</th>\n",
       "      <td>0.0</td>\n",
       "      <td>7</td>\n",
       "      <td>284</td>\n",
       "      <td>1</td>\n",
       "      <td>3</td>\n",
       "      <td>1</td>\n",
       "    </tr>\n",
       "    <tr>\n",
       "      <th>000098543e00d361552ab956ec525772</th>\n",
       "      <td>0.0</td>\n",
       "      <td>1</td>\n",
       "      <td>189</td>\n",
       "      <td>2</td>\n",
       "      <td>1</td>\n",
       "      <td>1</td>\n",
       "    </tr>\n",
       "    <tr>\n",
       "      <th>0000d4b93e501f038977d4ae8fb7693b</th>\n",
       "      <td>0.0</td>\n",
       "      <td>2</td>\n",
       "      <td>61</td>\n",
       "      <td>4</td>\n",
       "      <td>2</td>\n",
       "      <td>1</td>\n",
       "    </tr>\n",
       "  </tbody>\n",
       "</table>\n",
       "</div>"
      ],
      "text/plain": [
       "                                  money  frequency  recency  RClass  FClass  \\\n",
       "user_id                                                                       \n",
       "00002ad98ae4290672431d702c211b4a    0.0          1       98       3       1   \n",
       "00003cb9076039f584a12c2036fd3602    0.0         19       26       5       5   \n",
       "000065938a8c02438551bef260a5ded0    0.0          7      284       1       3   \n",
       "000098543e00d361552ab956ec525772    0.0          1      189       2       1   \n",
       "0000d4b93e501f038977d4ae8fb7693b    0.0          2       61       4       2   \n",
       "\n",
       "                                  MClass  \n",
       "user_id                                   \n",
       "00002ad98ae4290672431d702c211b4a       1  \n",
       "00003cb9076039f584a12c2036fd3602       1  \n",
       "000065938a8c02438551bef260a5ded0       1  \n",
       "000098543e00d361552ab956ec525772       1  \n",
       "0000d4b93e501f038977d4ae8fb7693b       1  "
      ]
     },
     "execution_count": 65,
     "metadata": {},
     "output_type": "execute_result"
    }
   ],
   "source": [
    "rfm[\"RClass\"] = rfm[\"recency\"].apply(RSegmentation, args=(quantiles,))\n",
    "rfm[\"FClass\"] = rfm[\"frequency\"].apply(FSegmentation, args=(quantiles,))\n",
    "rfm[\"MClass\"] = rfm[\"money\"].apply(MSegmentation, args=(quantiles,))\n",
    "rfm.head()"
   ]
  },
  {
   "cell_type": "markdown",
   "metadata": {},
   "source": [
    "Будем считать доли пользователей разных классов (из графика RF)\n",
    "\n",
    "Сначала - доля и количество \"лучших\" пользователей"
   ]
  },
  {
   "cell_type": "code",
   "execution_count": 110,
   "metadata": {
    "collapsed": false
   },
   "outputs": [
    {
     "name": "stdout",
     "output_type": "stream",
     "text": [
      "0.17\n",
      "51945\n"
     ]
    }
   ],
   "source": [
    "Best = rfm[(rfm[\"RClass\"] >= 4) & (rfm[\"FClass\"] >= 4)]\n",
    "\n",
    "print round(len(Best) / float(n_users), 2)\n",
    "print len(Best)"
   ]
  },
  {
   "cell_type": "markdown",
   "metadata": {},
   "source": [
    "\"Новички\""
   ]
  },
  {
   "cell_type": "code",
   "execution_count": 111,
   "metadata": {
    "collapsed": false
   },
   "outputs": [
    {
     "name": "stdout",
     "output_type": "stream",
     "text": [
      "0.24\n",
      "72281\n"
     ]
    }
   ],
   "source": [
    "Newbie = rfm[(rfm[\"RClass\"] >= 3) & (rfm[\"FClass\"] <= 2)]\n",
    "\n",
    "print round(len(Newbie) / float(n_users), 2)\n",
    "print len(Newbie)"
   ]
  },
  {
   "cell_type": "markdown",
   "metadata": {},
   "source": [
    "\"Потерянные\""
   ]
  },
  {
   "cell_type": "code",
   "execution_count": 112,
   "metadata": {
    "collapsed": false
   },
   "outputs": [
    {
     "name": "stdout",
     "output_type": "stream",
     "text": [
      "0.19\n",
      "57889\n"
     ]
    }
   ],
   "source": [
    "Lost = rfm[(rfm[\"RClass\"] <= 2) & (rfm[\"FClass\"] >= 3)]\n",
    "\n",
    "print round(len(Lost) / float(n_users), 2)\n",
    "print len(Lost)"
   ]
  },
  {
   "cell_type": "markdown",
   "metadata": {},
   "source": [
    "\"Одноразовые\""
   ]
  },
  {
   "cell_type": "code",
   "execution_count": 113,
   "metadata": {
    "collapsed": false
   },
   "outputs": [
    {
     "name": "stdout",
     "output_type": "stream",
     "text": [
      "0.21\n",
      "61558\n"
     ]
    }
   ],
   "source": [
    "Disposable = rfm[(rfm[\"RClass\"] <= 2) & (rfm[\"FClass\"] <= 2)]\n",
    "\n",
    "print round(len(Disposable) / float(n_users), 2)\n",
    "print len(Disposable)"
   ]
  },
  {
   "cell_type": "markdown",
   "metadata": {},
   "source": [
    "\"Активные\""
   ]
  },
  {
   "cell_type": "code",
   "execution_count": 114,
   "metadata": {
    "collapsed": false
   },
   "outputs": [
    {
     "name": "stdout",
     "output_type": "stream",
     "text": [
      "0.19\n",
      "55535\n"
     ]
    }
   ],
   "source": [
    "Active = rfm[(rfm[\"RClass\"] == 3) & (rfm[\"FClass\"] >= 3)] + rfm[(rfm[\"RClass\"] >= 3) & (rfm[\"FClass\"] == 3)]\n",
    "\n",
    "print round(len(Active) / float(n_users), 2)\n",
    "print len(Active)"
   ]
  },
  {
   "cell_type": "code",
   "execution_count": 115,
   "metadata": {
    "collapsed": false
   },
   "outputs": [
    {
     "data": {
      "image/png": "[encoded data removed]",
      "text/plain": [
       "<matplotlib.figure.Figure at 0x2c96b8090>"
      ]
     },
     "metadata": {},
     "output_type": "display_data"
    }
   ],
   "source": [
    "pl.figure(figsize=(6, 6))\n",
    "pl.pie([len(Best), len(Newbie), len(Disposable), len(Lost), len(Active)],\n",
    "       colors=[\"blue\", \"green\", \"red\", \"orange\", \"yellow\"], \n",
    "       labels=[\"Best\", \"Newbie\", \"Disposable\", \"Lost\", \"Active\"], startangle=90, autopct='%1.1f%%')\n",
    "pl.title(\"RF part of users\")\n",
    "pl.show()"
   ]
  },
  {
   "cell_type": "markdown",
   "metadata": {},
   "source": [
    "Суммарная выручка:"
   ]
  },
  {
   "cell_type": "code",
   "execution_count": 116,
   "metadata": {
    "collapsed": false
   },
   "outputs": [
    {
     "data": {
      "text/plain": [
       "10256466.0"
      ]
     },
     "execution_count": 116,
     "metadata": {},
     "output_type": "execute_result"
    }
   ],
   "source": [
    "total_revenue = rfm[\"money\"].sum()\n",
    "total_revenue"
   ]
  },
  {
   "cell_type": "markdown",
   "metadata": {},
   "source": [
    "Максимальный LTV:"
   ]
  },
  {
   "cell_type": "code",
   "execution_count": 117,
   "metadata": {
    "collapsed": false
   },
   "outputs": [
    {
     "data": {
      "text/plain": [
       "37020.0"
      ]
     },
     "execution_count": 117,
     "metadata": {},
     "output_type": "execute_result"
    }
   ],
   "source": [
    "rfm[\"money\"].max()"
   ]
  },
  {
   "cell_type": "markdown",
   "metadata": {},
   "source": [
    "Пользователи с RFM - 555:"
   ]
  },
  {
   "cell_type": "code",
   "execution_count": 74,
   "metadata": {
    "collapsed": false
   },
   "outputs": [
    {
     "data": {
      "text/plain": [
       "0.015"
      ]
     },
     "execution_count": 74,
     "metadata": {},
     "output_type": "execute_result"
    }
   ],
   "source": [
    "round(len(rfm[(rfm[\"RClass\"] == 5) & (rfm[\"FClass\"] == 5) & (rfm[\"MClass\"] == 5)])/float(n_users), 3)"
   ]
  },
  {
   "cell_type": "markdown",
   "metadata": {},
   "source": [
    "Пользователи с RFM - 551 (только смотрят)"
   ]
  },
  {
   "cell_type": "code",
   "execution_count": 75,
   "metadata": {
    "collapsed": false
   },
   "outputs": [
    {
     "data": {
      "text/plain": [
       "0.016"
      ]
     },
     "execution_count": 75,
     "metadata": {},
     "output_type": "execute_result"
    }
   ],
   "source": [
    "round(len(rfm[(rfm[\"RClass\"] == 5) & (rfm[\"FClass\"] == 5) & (rfm[\"MClass\"] == 1)])/float(n_users), 3)"
   ]
  },
  {
   "cell_type": "markdown",
   "metadata": {},
   "source": [
    "Посмотрим на то, как распределилась выручка между классами"
   ]
  },
  {
   "cell_type": "code",
   "execution_count": 118,
   "metadata": {
    "collapsed": true
   },
   "outputs": [],
   "source": [
    "Best_revenue = Best[\"money\"].sum()\n",
    "Newbie_revenue = Newbie[\"money\"].sum()\n",
    "Disposable_revenue = Disposable[\"money\"].sum()\n",
    "Lost_revenue = Lost[\"money\"].sum()\n",
    "Active_revenue = Active[\"money\"].sum()"
   ]
  },
  {
   "cell_type": "code",
   "execution_count": 77,
   "metadata": {
    "collapsed": false
   },
   "outputs": [
    {
     "data": {
      "image/png": "[encoded data removed]",
      "text/plain": [
       "<matplotlib.figure.Figure at 0x1354e5c90>"
      ]
     },
     "metadata": {},
     "output_type": "display_data"
    }
   ],
   "source": [
    "pl.figure(figsize=(6, 6))\n",
    "pl.pie([Best_revenue, Newbie_revenue, Disposable_revenue, Lost_revenue, Active_revenue],\n",
    "       colors=[\"blue\", \"green\", \"red\", \"orange\", \"yellow\"], \n",
    "       labels=[\"Best\", \"Newbie\", \"Disposable\", \"Lost\", \"Active\"], startangle=90, autopct='%1.1f%%')\n",
    "pl.title(\"Parts of revenue\")\n",
    "pl.show()"
   ]
  },
  {
   "cell_type": "markdown",
   "metadata": {},
   "source": [
    "Посмотрим на то, как распределились клики между классами"
   ]
  },
  {
   "cell_type": "code",
   "execution_count": 78,
   "metadata": {
    "collapsed": false
   },
   "outputs": [],
   "source": [
    "Best_frequency = Best[\"frequency\"].sum()\n",
    "Newbie_frequency = Newbie[\"frequency\"].sum()\n",
    "Disposable_frequency = Disposable[\"frequency\"].sum()\n",
    "Lost_frequency = Lost[\"frequency\"].sum()\n",
    "Active_frequency = Active[\"frequency\"].sum()"
   ]
  },
  {
   "cell_type": "code",
   "execution_count": 79,
   "metadata": {
    "collapsed": false
   },
   "outputs": [
    {
     "data": {
      "image/png": "[encoded data removed]",
      "text/plain": [
       "<matplotlib.figure.Figure at 0x1398ff090>"
      ]
     },
     "metadata": {},
     "output_type": "display_data"
    }
   ],
   "source": [
    "pl.figure(figsize=(6, 6))\n",
    "pl.pie([Best_frequency, Newbie_frequency, Disposable_frequency, Lost_frequency, Active_frequency],\n",
    "       colors=[\"blue\", \"green\", \"red\", \"orange\", \"yellow\"], \n",
    "       labels=[\"Best\", \"Newbie\", \"Disposable\", \"Lost\", \"Active\"], startangle=90, autopct='%1.1f%%')\n",
    "pl.title(\"Parts of clicks\")\n",
    "pl.show()"
   ]
  },
  {
   "cell_type": "markdown",
   "metadata": {},
   "source": [
    "Посмотрим на важный показатель - средний LTV по классу"
   ]
  },
  {
   "cell_type": "code",
   "execution_count": 80,
   "metadata": {
    "collapsed": true
   },
   "outputs": [],
   "source": [
    "Best_ltv = Best_revenue / float(len(Best))\n",
    "Newbie_ltv = Newbie_revenue / float(len(Newbie))\n",
    "Disposable_ltv = Disposable_revenue / float(len(Disposable))\n",
    "Lost_ltv = Lost_revenue / float(len(Lost))\n",
    "Active_ltv = Active_revenue / float(len(Active))"
   ]
  },
  {
   "cell_type": "code",
   "execution_count": 82,
   "metadata": {
    "collapsed": false
   },
   "outputs": [
    {
     "data": {
      "image/png": "[encoded data removed]",
      "text/plain": [
       "<matplotlib.figure.Figure at 0x12ffd95d0>"
      ]
     },
     "metadata": {},
     "output_type": "display_data"
    }
   ],
   "source": [
    "x_labels = [\"Best\", \"Active\", \"Disposable\", \"Newbie\", \"Lost\"]\n",
    "x = range(5)\n",
    "y = [Best_ltv, Active_ltv, Disposable_ltv, Newbie_ltv, Lost_ltv]\n",
    "\n",
    "pl.figure(figsize=(6,6))\n",
    "pl.bar(x, y, width = 0.7, color = [\"blue\", \"yellow\", \"red\", \"green\", \"orange\"])\n",
    "pl.xticks([i + 0.35 for i in x],x_labels)\n",
    "pl.title(\"mean ltv\")\n",
    "pl.show()"
   ]
  },
  {
   "cell_type": "code",
   "execution_count": 46,
   "metadata": {
    "collapsed": false
   },
   "outputs": [
    {
     "name": "stdout",
     "output_type": "stream",
     "text": [
      "5403019\n",
      "119961\n",
      "97866\n",
      "2299482\n",
      "92076.0\n"
     ]
    }
   ],
   "source": [
    "print Best_frequency\n",
    "print Newbie_frequency\n",
    "print Disposable_frequency \n",
    "print Lost_frequency\n",
    "print Active_frequency"
   ]
  },
  {
   "cell_type": "code",
   "execution_count": 119,
   "metadata": {
    "collapsed": true
   },
   "outputs": [],
   "source": [
    "Best_len = len(Best)\n",
    "Newbie_len = len(Newbie)\n",
    "Disposable_len = len(Disposable)\n",
    "Lost_len = len(Lost)\n",
    "Active_len = len(Active)"
   ]
  },
  {
   "cell_type": "markdown",
   "metadata": {},
   "source": [
    "Как прирастет число кликов из-за push-уведомлений?"
   ]
  },
  {
   "cell_type": "code",
   "execution_count": 85,
   "metadata": {
    "collapsed": false
   },
   "outputs": [
    {
     "name": "stdout",
     "output_type": "stream",
     "text": [
      "4051.71 0.000749897418462\n",
      "5637.918 0.0469979243254\n",
      "4801.524 0.0490622279443\n",
      "4515.342 0.00196363441853\n",
      "4331.73 0.0470451583475\n"
     ]
    }
   ],
   "source": [
    "mark = 0.52*0.15\n",
    "Best_frequency_inc = len(Best) * mark\n",
    "print Best_frequency_inc, Best_frequency_inc / float(Best_frequency)\n",
    "\n",
    "Newbie_frequency_inc = len(Newbie) * mark\n",
    "print Newbie_frequency_inc, Newbie_frequency_inc / float(Newbie_frequency)\n",
    "\n",
    "Disposable_frequency_inc = len(Disposable) * mark\n",
    "print Disposable_frequency_inc, Disposable_frequency_inc / float(Disposable_frequency)\n",
    "\n",
    "Lost_frequency_inc = len(Lost) * mark\n",
    "print Lost_frequency_inc, Lost_frequency_inc / float(Lost_frequency)\n",
    "\n",
    "Active_frequency_inc = len(Active) * mark\n",
    "print Active_frequency_inc, Active_frequency_inc / float(Active_frequency)"
   ]
  },
  {
   "cell_type": "markdown",
   "metadata": {},
   "source": [
    "Добавим к исходной базе дополнительный параметр каждого клика - класс пользователя"
   ]
  },
  {
   "cell_type": "code",
   "execution_count": 97,
   "metadata": {
    "collapsed": false
   },
   "outputs": [],
   "source": [
    "data = pd.read_csv(\"rfm.tsv\", quoting=csv.QUOTE_NONE, sep=\"\\t\",\n",
    "                   names=[\"timestamp\", \"user_id\", \"url or click\", \"geo_id\", \"category\", \"price\"])"
   ]
  },
  {
   "cell_type": "code",
   "execution_count": 98,
   "metadata": {
    "collapsed": false
   },
   "outputs": [],
   "source": [
    "best_index = set(Best.index)\n",
    "newbie_index = set(Newbie.index)\n",
    "disposable_index = set(Disposable.index)\n",
    "lost_index = set(Lost.index)\n",
    "active_index = set(Active.index)"
   ]
  },
  {
   "cell_type": "code",
   "execution_count": 99,
   "metadata": {
    "collapsed": false
   },
   "outputs": [
    {
     "data": {
      "text/html": [
       "<div>\n",
       "<table border=\"1\" class=\"dataframe\">\n",
       "  <thead>\n",
       "    <tr style=\"text-align: right;\">\n",
       "      <th></th>\n",
       "      <th>timestamp</th>\n",
       "      <th>user_id</th>\n",
       "      <th>url or click</th>\n",
       "      <th>geo_id</th>\n",
       "      <th>category</th>\n",
       "      <th>price</th>\n",
       "      <th>Class</th>\n",
       "    </tr>\n",
       "  </thead>\n",
       "  <tbody>\n",
       "    <tr>\n",
       "      <th>0</th>\n",
       "      <td>1380052543</td>\n",
       "      <td>00002ad98ae4290672431d702c211b4a</td>\n",
       "      <td>/_c/YwrVrj_29IVZDmKxglT53wo7Pk8.html</td>\n",
       "      <td>10000</td>\n",
       "      <td>NaN</td>\n",
       "      <td>NaN</td>\n",
       "      <td>Newbie</td>\n",
       "    </tr>\n",
       "    <tr>\n",
       "      <th>1</th>\n",
       "      <td>1375703582</td>\n",
       "      <td>00003cb9076039f584a12c2036fd3602</td>\n",
       "      <td>/gate/cart-list.xml?sk=y5fc6079b758f5a4e3646a8...</td>\n",
       "      <td>10000</td>\n",
       "      <td>NaN</td>\n",
       "      <td>NaN</td>\n",
       "      <td>Best</td>\n",
       "    </tr>\n",
       "    <tr>\n",
       "      <th>2</th>\n",
       "      <td>1374479873</td>\n",
       "      <td>00003cb9076039f584a12c2036fd3602</td>\n",
       "      <td>/gate/cart-list.xml?sk=yd6558780959d5130b32e1a...</td>\n",
       "      <td>10000</td>\n",
       "      <td>NaN</td>\n",
       "      <td>NaN</td>\n",
       "      <td>Best</td>\n",
       "    </tr>\n",
       "    <tr>\n",
       "      <th>3</th>\n",
       "      <td>1374479892</td>\n",
       "      <td>00003cb9076039f584a12c2036fd3602</td>\n",
       "      <td>/gate/cart-list.xml?sk=yd6558780959d5130b32e1a...</td>\n",
       "      <td>10000</td>\n",
       "      <td>NaN</td>\n",
       "      <td>NaN</td>\n",
       "      <td>Best</td>\n",
       "    </tr>\n",
       "    <tr>\n",
       "      <th>4</th>\n",
       "      <td>1374480337</td>\n",
       "      <td>00003cb9076039f584a12c2036fd3602</td>\n",
       "      <td>/gate/cart-list.xml?sk=yd6558780959d5130b32e1a...</td>\n",
       "      <td>10000</td>\n",
       "      <td>NaN</td>\n",
       "      <td>NaN</td>\n",
       "      <td>Best</td>\n",
       "    </tr>\n",
       "  </tbody>\n",
       "</table>\n",
       "</div>"
      ],
      "text/plain": [
       "    timestamp                           user_id  \\\n",
       "0  1380052543  00002ad98ae4290672431d702c211b4a   \n",
       "1  1375703582  00003cb9076039f584a12c2036fd3602   \n",
       "2  1374479873  00003cb9076039f584a12c2036fd3602   \n",
       "3  1374479892  00003cb9076039f584a12c2036fd3602   \n",
       "4  1374480337  00003cb9076039f584a12c2036fd3602   \n",
       "\n",
       "                                        url or click geo_id category  price  \\\n",
       "0               /_c/YwrVrj_29IVZDmKxglT53wo7Pk8.html  10000      NaN    NaN   \n",
       "1  /gate/cart-list.xml?sk=y5fc6079b758f5a4e3646a8...  10000      NaN    NaN   \n",
       "2  /gate/cart-list.xml?sk=yd6558780959d5130b32e1a...  10000      NaN    NaN   \n",
       "3  /gate/cart-list.xml?sk=yd6558780959d5130b32e1a...  10000      NaN    NaN   \n",
       "4  /gate/cart-list.xml?sk=yd6558780959d5130b32e1a...  10000      NaN    NaN   \n",
       "\n",
       "    Class  \n",
       "0  Newbie  \n",
       "1    Best  \n",
       "2    Best  \n",
       "3    Best  \n",
       "4    Best  "
      ]
     },
     "execution_count": 99,
     "metadata": {},
     "output_type": "execute_result"
    }
   ],
   "source": [
    "def division(user_id):\n",
    "    if user_id in best_index:\n",
    "        return \"Best\"\n",
    "    if user_id in newbie_index:\n",
    "        return\"Newbie\"\n",
    "    if user_id in disposable_index:\n",
    "        return \"Disposable\"\n",
    "    if user_id in lost_index:\n",
    "        return \"Lost\"\n",
    "\n",
    "    return \"Active\"\n",
    "\n",
    "\n",
    "data[\"Class\"] = data.apply(lambda row: division(row[\"user_id\"]), axis = 1)\n",
    "\n",
    "data.head()"
   ]
  },
  {
   "cell_type": "markdown",
   "metadata": {},
   "source": [
    "Разделим клики на платные(click_type = 1), просмотры отзывов(click_type = 2), переходы на карточки товаров(click_type = 3) и на все осталбные(click_type = 0)"
   ]
  },
  {
   "cell_type": "code",
   "execution_count": 100,
   "metadata": {
    "collapsed": false,
    "scrolled": false
   },
   "outputs": [
    {
     "data": {
      "text/html": [
       "<div>\n",
       "<table border=\"1\" class=\"dataframe\">\n",
       "  <thead>\n",
       "    <tr style=\"text-align: right;\">\n",
       "      <th></th>\n",
       "      <th>timestamp</th>\n",
       "      <th>user_id</th>\n",
       "      <th>url or click</th>\n",
       "      <th>geo_id</th>\n",
       "      <th>category</th>\n",
       "      <th>price</th>\n",
       "      <th>Class</th>\n",
       "      <th>click_type</th>\n",
       "    </tr>\n",
       "  </thead>\n",
       "  <tbody>\n",
       "    <tr>\n",
       "      <th>10007142</th>\n",
       "      <td>1361889766</td>\n",
       "      <td>fffffdbc5c7fbe34b444d9c213bba286</td>\n",
       "      <td>/offers.xml?modelid=8464553&amp;hid=4165204&amp;how=ap...</td>\n",
       "      <td>213</td>\n",
       "      <td>4165204</td>\n",
       "      <td>NaN</td>\n",
       "      <td>Lost</td>\n",
       "      <td>0</td>\n",
       "    </tr>\n",
       "    <tr>\n",
       "      <th>10007143</th>\n",
       "      <td>1361889775</td>\n",
       "      <td>fffffdbc5c7fbe34b444d9c213bba286</td>\n",
       "      <td>/offers.xml?modelid=8464553&amp;hid=4165204&amp;how=ap...</td>\n",
       "      <td>213</td>\n",
       "      <td>4165204</td>\n",
       "      <td>NaN</td>\n",
       "      <td>Lost</td>\n",
       "      <td>0</td>\n",
       "    </tr>\n",
       "    <tr>\n",
       "      <th>10007144</th>\n",
       "      <td>1361889674</td>\n",
       "      <td>fffffdbc5c7fbe34b444d9c213bba286</td>\n",
       "      <td>/offers.xml?modelid=981213&amp;hid=294661&amp;hyperid=...</td>\n",
       "      <td>213</td>\n",
       "      <td>294661</td>\n",
       "      <td>NaN</td>\n",
       "      <td>Lost</td>\n",
       "      <td>0</td>\n",
       "    </tr>\n",
       "    <tr>\n",
       "      <th>10007145</th>\n",
       "      <td>1361889363</td>\n",
       "      <td>fffffdbc5c7fbe34b444d9c213bba286</td>\n",
       "      <td>/offers.xml?modelid=981770&amp;hid=91033&amp;how=aprice</td>\n",
       "      <td>213</td>\n",
       "      <td>91033</td>\n",
       "      <td>NaN</td>\n",
       "      <td>Lost</td>\n",
       "      <td>0</td>\n",
       "    </tr>\n",
       "    <tr>\n",
       "      <th>10007146</th>\n",
       "      <td>1361889367</td>\n",
       "      <td>fffffdbc5c7fbe34b444d9c213bba286</td>\n",
       "      <td>/offers.xml?modelid=981770&amp;hid=91033&amp;how=aprice</td>\n",
       "      <td>213</td>\n",
       "      <td>91033</td>\n",
       "      <td>NaN</td>\n",
       "      <td>Lost</td>\n",
       "      <td>0</td>\n",
       "    </tr>\n",
       "  </tbody>\n",
       "</table>\n",
       "</div>"
      ],
      "text/plain": [
       "           timestamp                           user_id  \\\n",
       "10007142  1361889766  fffffdbc5c7fbe34b444d9c213bba286   \n",
       "10007143  1361889775  fffffdbc5c7fbe34b444d9c213bba286   \n",
       "10007144  1361889674  fffffdbc5c7fbe34b444d9c213bba286   \n",
       "10007145  1361889363  fffffdbc5c7fbe34b444d9c213bba286   \n",
       "10007146  1361889367  fffffdbc5c7fbe34b444d9c213bba286   \n",
       "\n",
       "                                               url or click geo_id category  \\\n",
       "10007142  /offers.xml?modelid=8464553&hid=4165204&how=ap...    213  4165204   \n",
       "10007143  /offers.xml?modelid=8464553&hid=4165204&how=ap...    213  4165204   \n",
       "10007144  /offers.xml?modelid=981213&hid=294661&hyperid=...    213   294661   \n",
       "10007145    /offers.xml?modelid=981770&hid=91033&how=aprice    213    91033   \n",
       "10007146    /offers.xml?modelid=981770&hid=91033&how=aprice    213    91033   \n",
       "\n",
       "          price Class  click_type  \n",
       "10007142    NaN  Lost           0  \n",
       "10007143    NaN  Lost           0  \n",
       "10007144    NaN  Lost           0  \n",
       "10007145    NaN  Lost           0  \n",
       "10007146    NaN  Lost           0  "
      ]
     },
     "execution_count": 100,
     "metadata": {},
     "output_type": "execute_result"
    }
   ],
   "source": [
    "def url_division(url):\n",
    "    if url == \"click\":\n",
    "        return 1 #платные клики\n",
    "    if \"review\" in url or \"opinion\" in url:\n",
    "        return 2 #просмотр отзывов\n",
    "    if \"model.xml\" in url:\n",
    "        return 3 #карточка товара\n",
    "    return 0\n",
    "\n",
    "data[\"click_type\"] = data.apply(lambda row: url_division(row[\"url or click\"]), axis = 1)\n",
    "data.tail()"
   ]
  },
  {
   "cell_type": "markdown",
   "metadata": {},
   "source": [
    "Какая доля кликов ведет к отзывам?"
   ]
  },
  {
   "cell_type": "code",
   "execution_count": 101,
   "metadata": {
    "collapsed": false
   },
   "outputs": [
    {
     "data": {
      "text/plain": [
       "0.11540971667549202"
      ]
     },
     "execution_count": 101,
     "metadata": {},
     "output_type": "execute_result"
    }
   ],
   "source": [
    "len(data[data[\"click_type\"] == 2]) / float(n_clicks)"
   ]
  },
  {
   "cell_type": "markdown",
   "metadata": {},
   "source": [
    "Какая доля кликов ведет в магазины?"
   ]
  },
  {
   "cell_type": "code",
   "execution_count": 102,
   "metadata": {
    "collapsed": false
   },
   "outputs": [
    {
     "data": {
      "text/plain": [
       "0.036305352564522136"
      ]
     },
     "execution_count": 102,
     "metadata": {},
     "output_type": "execute_result"
    }
   ],
   "source": [
    "len(data[data[\"click_type\"] == 1]) / float(n_clicks)"
   ]
  },
  {
   "cell_type": "markdown",
   "metadata": {},
   "source": [
    "Какие самые регионы самые активные?"
   ]
  },
  {
   "cell_type": "markdown",
   "metadata": {},
   "source": [
    "10000 - универсальный код\n",
    "213 - Москва\n",
    "2 - Санкт-Петербург\n",
    "47 - Нижний Новгород\n",
    "39 - Ростов-на-Дону\n",
    "54 - Екатеринбург"
   ]
  },
  {
   "cell_type": "code",
   "execution_count": 103,
   "metadata": {
    "collapsed": false
   },
   "outputs": [
    {
     "data": {
      "text/plain": [
       "[(10000, 6014215),\n",
       " (213, 1809348),\n",
       " (2, 294418),\n",
       " (54, 90230),\n",
       " (47, 88506),\n",
       " ('10000', 82715),\n",
       " (39, 81938)]"
      ]
     },
     "execution_count": 103,
     "metadata": {},
     "output_type": "execute_result"
    }
   ],
   "source": [
    "geo_counter = Counter(data[\"geo_id\"])\n",
    "geo_counter.most_common(7)"
   ]
  },
  {
   "cell_type": "markdown",
   "metadata": {},
   "source": [
    "Какие категории самые популярные?"
   ]
  },
  {
   "cell_type": "markdown",
   "metadata": {},
   "source": [
    "91491 - Мобильные телефоны\n",
    "6427100 - Планшеты\n",
    "91013 - Ноутбуки\n",
    "90639 - Телевизоры"
   ]
  },
  {
   "cell_type": "code",
   "execution_count": 104,
   "metadata": {
    "collapsed": false
   },
   "outputs": [
    {
     "data": {
      "text/plain": [
       "[(nan, 4449354),\n",
       " ('91491', 1113146),\n",
       " ('6427100', 361359),\n",
       " ('91013', 255239),\n",
       " ('90639', 255200)]"
      ]
     },
     "execution_count": 104,
     "metadata": {},
     "output_type": "execute_result"
    }
   ],
   "source": [
    "categories_counter = Counter(data[\"category\"])\n",
    "categories_counter.most_common(5)"
   ]
  },
  {
   "cell_type": "code",
   "execution_count": 120,
   "metadata": {
    "collapsed": false
   },
   "outputs": [
    {
     "data": {
      "image/png": "[encoded data removed]",
      "text/plain": [
       "<matplotlib.figure.Figure at 0x121041390>"
      ]
     },
     "metadata": {},
     "output_type": "display_data"
    }
   ],
   "source": [
    "Best = data[data[\"Class\"] == \"Best\"]\n",
    "Active = data[data[\"Class\"] == \"Active\"]\n",
    "Disposable = data[data[\"Class\"] == \"Disposable\"]\n",
    "Newbie = data[data[\"Class\"] == \"Newbie\"]\n",
    "Lost = data[data[\"Class\"] == \"Lost\"]\n",
    "\n",
    "pl.figure(figsize=(12, 8))\n",
    "\n",
    "pl.subplot(2, 3, 1)\n",
    "pl.pie([len(Best[Best[\"click_type\"] == 1]), len(Best[Best[\"click_type\"] == 2]), \n",
    "        len(Best[Best[\"click_type\"] == 3]), len(Best[Best[\"click_type\"] == 0])],\n",
    "       colors=[\"blue\", \"green\", \"yellow\", \"red\"], \n",
    "       labels=[\"To shop\", \"Reviews\", \"Model card\", \"Other\"], startangle=90, autopct='%1.1f%%')\n",
    "pl.title(\"Activity of Best users\")\n",
    "\n",
    "pl.subplot(2, 3, 2)\n",
    "pl.pie([len(Active[Active[\"click_type\"] == 1]), len(Active[Active[\"click_type\"] == 2]),\n",
    "        len(Active[Active[\"click_type\"] == 3]), len(Active[Active[\"click_type\"] == 0])],\n",
    "       colors=[\"blue\", \"green\", \"yellow\", \"red\"], \n",
    "       labels=[\"To shop\", \"Reviews\", \"Model card\", \"Other\"], startangle=90, autopct='%1.1f%%')\n",
    "pl.title(\"Activity of Active users\")\n",
    "\n",
    "pl.subplot(2, 3, 3)\n",
    "pl.pie([len(Disposable[Disposable[\"click_type\"] == 1]), len(Disposable[Disposable[\"click_type\"] == 2]),\n",
    "        len(Disposable[Disposable[\"click_type\"] == 3]), len(Disposable[Disposable[\"click_type\"] == 0])],\n",
    "       colors=[\"blue\", \"green\", \"yellow\", \"red\"], \n",
    "       labels=[\"To shop\", \"Reviews\", \"Model card\", \"Other\"], startangle=90, autopct='%1.1f%%')\n",
    "pl.title(\"Activity of Disposable users\")\n",
    "\n",
    "pl.subplot(2, 3, 4)\n",
    "pl.pie([len(Newbie[Newbie[\"click_type\"] == 1]), len(Newbie[Newbie[\"click_type\"] == 2]), \n",
    "        len(Newbie[Newbie[\"click_type\"] == 3]), len(Newbie[Newbie[\"click_type\"] == 0])],\n",
    "       colors=[\"blue\", \"green\", \"yellow\", \"red\"], \n",
    "       labels=[\"To shop\", \"Reviews\", \"Model card\", \"Other\"], startangle=90, autopct='%1.1f%%')\n",
    "pl.title(\"Activity of Newbie users\")\n",
    "\n",
    "pl.subplot(2, 3, 5)\n",
    "pl.pie([len(Lost[Lost[\"click_type\"] == 1]), len(Lost[Lost[\"click_type\"] == 2]), \n",
    "        len(Lost[Lost[\"click_type\"] == 3]), len(Lost[Lost[\"click_type\"] == 0])],\n",
    "       colors=[\"blue\", \"green\", \"yellow\", \"red\"], \n",
    "       labels=[\"To shop\", \"Reviews\", \"Model card\", \"Other\"], startangle=90, autopct='%1.1f%%')\n",
    "pl.title(\"Activity of Lost users\")\n",
    "\n",
    "pl.show()"
   ]
  },
  {
   "cell_type": "markdown",
   "metadata": {},
   "source": [
    "Больше всего читают отзывы \"Лучшие\" пользователи.\n",
    "\n",
    "В магазины примерно поровну переходят как \"Лучшие\", так и \"Потерянные\".\n",
    "\n",
    "На карточку товара больше всего смотрят \"Потерянные\"."
   ]
  },
  {
   "cell_type": "markdown",
   "metadata": {},
   "source": [
    "Сравнение отношения числа платных кликов к просмотрам карточки товара"
   ]
  },
  {
   "cell_type": "code",
   "execution_count": 106,
   "metadata": {
    "collapsed": true
   },
   "outputs": [],
   "source": [
    "Best_mark = len(Best[Best[\"click_type\"] == 1]) / float(len(Best[Best[\"click_type\"] == 3]))\n",
    "Active_mark = len(Active[Active[\"click_type\"] == 1]) / float(len(Active[Active[\"click_type\"] == 3]))\n",
    "Disposable_mark = len(Disposable[Disposable[\"click_type\"] == 1]) / float(len(Disposable[Disposable[\"click_type\"] == 3]))\n",
    "Newbie_mark = len(Newbie[Newbie[\"click_type\"] == 1]) / float(len(Newbie[Newbie[\"click_type\"] == 3]))\n",
    "Lost_mark = len(Lost[Lost[\"click_type\"] == 1]) / float(len(Lost[Lost[\"click_type\"] == 3]))"
   ]
  },
  {
   "cell_type": "code",
   "execution_count": 107,
   "metadata": {
    "collapsed": false
   },
   "outputs": [
    {
     "data": {
      "image/png": "[encoded data removed]",
      "text/plain": [
       "<matplotlib.figure.Figure at 0x11ea8f350>"
      ]
     },
     "metadata": {},
     "output_type": "display_data"
    }
   ],
   "source": [
    "x_labels = [\"Best\", \"Active\", \"Disposable\", \"Newbie\", \"Lost\"]\n",
    "x = range(5)\n",
    "y = [Best_mark, Active_mark, Disposable_mark, Newbie_mark, Lost_mark]\n",
    "\n",
    "pl.figure(figsize=(6,6))\n",
    "pl.bar(x, y, width = 0.7, color = [\"blue\", \"yellow\", \"red\", \"green\", \"orange\"])\n",
    "pl.xticks([i + 0.35 for i in x],x_labels)\n",
    "pl.title(\"mark\")\n",
    "pl.show()"
   ]
  },
  {
   "cell_type": "markdown",
   "metadata": {},
   "source": [
    "Как вырастет количество платных кликов?"
   ]
  },
  {
   "cell_type": "code",
   "execution_count": 108,
   "metadata": {
    "collapsed": false
   },
   "outputs": [],
   "source": [
    "Best_paid_inc = (len(Best[Best[\"click_type\"] == 3]) + Best_frequency_inc) * Best_mark - len(Best[Best[\"click_type\"] == 1])\n",
    "Active_paid_inc = (len(Active[Active[\"click_type\"] == 3]) + Active_frequency_inc) * Active_mark - len(Active[Active[\"click_type\"] == 1])\n",
    "Disposable_paid_inc = (len(Disposable[Disposable[\"click_type\"] == 3]) + Disposable_frequency_inc) * Disposable_mark - len(Disposable[Disposable[\"click_type\"] == 1])\n",
    "Newbie_paid_inc = (len(Newbie[Newbie[\"click_type\"] == 3]) + Newbie_frequency_inc) * Newbie_mark - len(Newbie[Newbie[\"click_type\"] == 1])\n",
    "Lost_paid_inc = (len(Lost[Lost[\"click_type\"] == 3]) + Lost_frequency_inc) * Lost_mark - len(Lost[Lost[\"click_type\"] == 1])"
   ]
  },
  {
   "cell_type": "code",
   "execution_count": 109,
   "metadata": {
    "collapsed": false
   },
   "outputs": [
    {
     "name": "stdout",
     "output_type": "stream",
     "text": [
      "1312.96116239\n",
      "1150.8070669\n",
      "415.611086046\n",
      "751.641534854\n",
      "932.54513693\n"
     ]
    }
   ],
   "source": [
    "print Best_paid_inc\n",
    "print Active_paid_inc\n",
    "print Disposable_paid_inc\n",
    "print Newbie_paid_inc\n",
    "print Lost_paid_inc"
   ]
  },
  {
   "cell_type": "markdown",
   "metadata": {},
   "source": [
    "На какую долю вырастет средний LTV пользователя?"
   ]
  },
  {
   "cell_type": "code",
   "execution_count": 129,
   "metadata": {
    "collapsed": false
   },
   "outputs": [
    {
     "name": "stdout",
     "output_type": "stream",
     "text": [
      "0.0064928648692\n",
      "0.0163013069706\n",
      "0.273248577282\n",
      "0.404325731497\n",
      "0.0107040224163\n"
     ]
    }
   ],
   "source": [
    "print (Best_revenue / float(len(Best[Best[\"click_type\"] == 1]))) * Best_paid_inc / (Best_len * Best_ltv)\n",
    "print (Active_revenue / float(len(Active[Active[\"click_type\"] == 1]))) * Active_paid_inc / (Active_len * Active_ltv)\n",
    "print (Disposable_revenue / float(len(Disposable[Disposable[\"click_type\"] == 1]))) * Disposable_paid_inc / (Disposable_len * Disposable_ltv)\n",
    "print (Newbie_revenue / float(len(Newbie[Newbie[\"click_type\"] == 1]))) * Newbie_paid_inc / (Newbie_len * Newbie_ltv)\n",
    "print (Lost_revenue / float(len(Lost[Lost[\"click_type\"] == 1]))) * Lost_paid_inc / (Lost_len * Lost_ltv)"
   ]
  }
 ],
 "metadata": {
  "anaconda-cloud": {},
  "kernelspec": {
   "display_name": "Python [Root]",
   "language": "python",
   "name": "Python [Root]"
  },
  "language_info": {
   "codemirror_mode": {
    "name": "ipython",
    "version": 2
   },
   "file_extension": ".py",
   "mimetype": "text/x-python",
   "name": "python",
   "nbconvert_exporter": "python",
   "pygments_lexer": "ipython2",
   "version": "2.7.12"
  }
 },
 "nbformat": 4,
 "nbformat_minor": 0
}
